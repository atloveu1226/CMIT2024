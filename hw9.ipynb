{
  "cells": [
    {
      "cell_type": "code",
      "execution_count": 3,
      "metadata": {
        "colab": {
          "base_uri": "https://localhost:8080/",
          "height": 34
        },
        "id": "jp0ES0uXxqGY",
        "outputId": "0f03c27b-4e47-4086-d9e3-840cbe53874b"
      },
      "outputs": [
        {
          "output_type": "execute_result",
          "data": {
            "text/plain": [
              "<IPython.core.display.HTML object>"
            ],
            "text/html": [
              "\n",
              "        <script>\n",
              "            function code_toggle_4998182637990825465() {\n",
              "                $('div.cell.code_cell.rendered.selected').next().find('div.input').toggle();\n",
              "            }\n",
              "\n",
              "            $('div.cell.code_cell.rendered.selected').find(\"div.input\").hide();\n",
              "        </script>\n",
              "\n",
              "        <a href=\"javascript:code_toggle_4998182637990825465()\">s _</a>\n",
              "    "
            ]
          },
          "metadata": {},
          "execution_count": 3
        }
      ],
      "source": [
        "# hiding slideshow setup etc\n",
        "hide_toggle(for_next=True)"
      ]
    },
    {
      "cell_type": "code",
      "execution_count": 2,
      "metadata": {
        "colab": {
          "base_uri": "https://localhost:8080/"
        },
        "id": "JIEFo-NFxqGd",
        "outputId": "93a8646a-1ea4-4f1b-8af7-9523e167a144"
      },
      "outputs": [
        {
          "output_type": "execute_result",
          "data": {
            "text/plain": [
              "{'theme': 'moon',\n",
              " 'transition': 'none',\n",
              " 'start_slideshow_at': 'selected',\n",
              " 'enable_chalkboard': True}"
            ]
          },
          "metadata": {},
          "execution_count": 2
        }
      ],
      "source": [
        "from IPython.display import Image\n",
        "from IPython.core.display import HTML\n",
        "from IPython.display import HTML\n",
        "import random\n",
        "\n",
        "def hide_toggle(for_next=False):\n",
        "    this_cell = \"\"\"$('div.cell.code_cell.rendered.selected')\"\"\"\n",
        "    next_cell = this_cell + '.next()'\n",
        "\n",
        "    toggle_text = 's'  # text shown on toggle link\n",
        "    target_cell = this_cell  # target cell to control with toggle\n",
        "    js_hide_current = ''  # bit of JS to permanently hide code in current cell (only when toggling next cell)\n",
        "\n",
        "    if for_next:\n",
        "        target_cell = next_cell\n",
        "        toggle_text += ' _'\n",
        "        js_hide_current = this_cell + '.find(\"div.input\").hide();'\n",
        "\n",
        "    js_f_name = 'code_toggle_{}'.format(str(random.randint(1,2**64)))\n",
        "\n",
        "    html = \"\"\"\n",
        "        <script>\n",
        "            function {f_name}() {{\n",
        "                {cell_selector}.find('div.input').toggle();\n",
        "            }}\n",
        "\n",
        "            {js_hide_current}\n",
        "        </script>\n",
        "\n",
        "        <a href=\"javascript:{f_name}()\">{toggle_text}</a>\n",
        "    \"\"\".format(\n",
        "        f_name=js_f_name,\n",
        "        cell_selector=target_cell,\n",
        "        js_hide_current=js_hide_current,\n",
        "        toggle_text=toggle_text\n",
        "    )\n",
        "\n",
        "    return HTML(html)\n",
        "\n",
        "tata_steel = \"https://i.guim.co.uk/img/media/447f7e234d9f432480a3c5bb0ec596c12ce869c5/0_340_5100_3060/master/5100.jpg?width=1900&dpr=1&s=none\"\n",
        "ebsd_scan = \"https://i.imgur.com/YOQ9mzO.png\"\n",
        "apd_ebsd = \"https://i.imgur.com/HobMKDG.png\"\n",
        "pyapd_logo = \"https://raw.githubusercontent.com/mbuze/PyAPD/main/logo/logo.png\"\n",
        "\n",
        "\n",
        "#!/usr/bin/env python3\n",
        "from traitlets.config.manager import BaseJSONConfigManager\n",
        "from pathlib import Path\n",
        "path = Path.home() / \".jupyter\" / \"nbconfig\"\n",
        "cm = BaseJSONConfigManager(config_dir=str(path))\n",
        "cm.update(\n",
        "    \"rise\",\n",
        "    {\n",
        "        \"theme\": \"moon\",\n",
        "        \"transition\": \"none\",\n",
        "        \"start_slideshow_at\": \"selected\",\n",
        "        \"enable_chalkboard\": True,\n",
        "     }\n",
        ")"
      ]
    },
    {
      "cell_type": "markdown",
      "metadata": {
        "id": "EJtH8VOFxqGe"
      },
      "source": [
        "# Generative Adversarial Networks with applications in microstructure modelling: Part 1\n",
        "\n",
        "### 2024 CMIT Summer Research Internship Programme, University of Liverpool, 16 July 2024\n",
        "\n",
        "\n",
        "#### Maciej Buze, Heriot-Watt University\n",
        "\n"
      ]
    },
    {
      "cell_type": "markdown",
      "metadata": {
        "id": "0TkjMqrSxqGg"
      },
      "source": [
        "## Course Information\n",
        "\n",
        "- My contact information:\n",
        "   - Email: [m.buze@hw.ac.uk](mailto:m.buze@hw.ac.uk) -> questions / comments / reflections very welcome!\n",
        "   - Website: https://mbuze.github.io\n",
        "   - Potential PhD projects starting in October 2025 or October 2026 -> get in touch!\n",
        "<br><br>\n",
        "- Github repo with course materials:<br>\n",
        "https://github.com/mbuze/GAN_microstructure_modelling\n",
        "<br><br>\n",
        "- Slides/Notes/Exercises via Jupyter notebooks\n",
        "<br><br>\n",
        "- Other relevant Python library PyAPD: https://github.com/mbuze/PyAPD"
      ]
    },
    {
      "cell_type": "markdown",
      "metadata": {
        "id": "JgxYizdaxqGg"
      },
      "source": [
        "## Course aims and structure\n",
        "\n",
        "### Aims\n",
        "\n",
        "A gentle hands-on introducton to\n",
        "1. Microstructure modelling as a mathematical imaging problem\n",
        "1. Generative Adversarial Networks - a well-known generative AI framework\n",
        "\n",
        "### Structure\n",
        "- Two ~2-hour lectures: (i) Tuesday 16 July 9:30-11:30 BST, (ii) Friday 19 July 9:30-11:30 BST\n",
        "- Blend of theory and live coding\n",
        "- Modest homework in the form of a Jupyter notebook\n",
        "- Reproducible code to play around with"
      ]
    },
    {
      "cell_type": "markdown",
      "metadata": {
        "id": "LoLPIIbWxqGg"
      },
      "source": [
        "## Motivation"
      ]
    },
    {
      "cell_type": "code",
      "execution_count": 4,
      "metadata": {
        "colab": {
          "base_uri": "https://localhost:8080/",
          "height": 34
        },
        "id": "RT7nKBPqxqGh",
        "outputId": "88e64b6c-2d26-418b-8cc3-3b19c34fcdec"
      },
      "outputs": [
        {
          "output_type": "execute_result",
          "data": {
            "text/plain": [
              "<IPython.core.display.HTML object>"
            ],
            "text/html": [
              "\n",
              "        <script>\n",
              "            function code_toggle_10041889657378428029() {\n",
              "                $('div.cell.code_cell.rendered.selected').next().find('div.input').toggle();\n",
              "            }\n",
              "\n",
              "            $('div.cell.code_cell.rendered.selected').find(\"div.input\").hide();\n",
              "        </script>\n",
              "\n",
              "        <a href=\"javascript:code_toggle_10041889657378428029()\">s _</a>\n",
              "    "
            ]
          },
          "metadata": {},
          "execution_count": 4
        }
      ],
      "source": [
        "hide_toggle(for_next=True)"
      ]
    },
    {
      "cell_type": "code",
      "execution_count": null,
      "metadata": {
        "scrolled": false,
        "id": "9102xX_NxqGh",
        "outputId": "3798752a-251f-4d75-ea62-72262a0903bc"
      },
      "outputs": [
        {
          "data": {
            "text/html": [
              "<img src=\"https://i.guim.co.uk/img/media/447f7e234d9f432480a3c5bb0ec596c12ce869c5/0_340_5100_3060/master/5100.jpg?width=1900&dpr=1&s=none\" width=\"1350\"/>"
            ],
            "text/plain": [
              "<IPython.core.display.Image object>"
            ]
          },
          "execution_count": 6,
          "metadata": {},
          "output_type": "execute_result"
        }
      ],
      "source": [
        "Image(url= tata_steel, width=1350)"
      ]
    },
    {
      "cell_type": "code",
      "execution_count": 5,
      "metadata": {
        "colab": {
          "base_uri": "https://localhost:8080/",
          "height": 34
        },
        "id": "PvDVULgrxqGi",
        "outputId": "6a4f644f-cc2b-477b-d2b4-431f440b99ef"
      },
      "outputs": [
        {
          "output_type": "execute_result",
          "data": {
            "text/plain": [
              "<IPython.core.display.HTML object>"
            ],
            "text/html": [
              "\n",
              "        <script>\n",
              "            function code_toggle_7559555157933814431() {\n",
              "                $('div.cell.code_cell.rendered.selected').next().find('div.input').toggle();\n",
              "            }\n",
              "\n",
              "            $('div.cell.code_cell.rendered.selected').find(\"div.input\").hide();\n",
              "        </script>\n",
              "\n",
              "        <a href=\"javascript:code_toggle_7559555157933814431()\">s _</a>\n",
              "    "
            ]
          },
          "metadata": {},
          "execution_count": 5
        }
      ],
      "source": [
        "hide_toggle(for_next=True)"
      ]
    },
    {
      "cell_type": "code",
      "execution_count": 6,
      "metadata": {
        "colab": {
          "base_uri": "https://localhost:8080/",
          "height": 970
        },
        "id": "GjhV6Xz6xqGj",
        "outputId": "094b648e-e16d-4926-b4d2-e1d8b8be35a8"
      },
      "outputs": [
        {
          "output_type": "execute_result",
          "data": {
            "text/html": [
              "<img src=\"https://i.imgur.com/YOQ9mzO.png\" width=\"1050\"/>"
            ],
            "text/plain": [
              "<IPython.core.display.Image object>"
            ]
          },
          "metadata": {},
          "execution_count": 6
        }
      ],
      "source": [
        "Image(url= ebsd_scan, width=1050)"
      ]
    },
    {
      "cell_type": "code",
      "execution_count": null,
      "metadata": {
        "id": "sy8IYbx_xqGj",
        "outputId": "cdcda43a-95d0-419b-cfac-c1c881569d67"
      },
      "outputs": [
        {
          "data": {
            "text/html": [
              "\n",
              "        <script>\n",
              "            function code_toggle_1610019583882515855() {\n",
              "                $('div.cell.code_cell.rendered.selected').next().find('div.input').toggle();\n",
              "            }\n",
              "\n",
              "            $('div.cell.code_cell.rendered.selected').find(\"div.input\").hide();\n",
              "        </script>\n",
              "\n",
              "        <a href=\"javascript:code_toggle_1610019583882515855()\">s _</a>\n",
              "    "
            ],
            "text/plain": [
              "<IPython.core.display.HTML object>"
            ]
          },
          "execution_count": 9,
          "metadata": {},
          "output_type": "execute_result"
        }
      ],
      "source": [
        "hide_toggle(for_next=True)"
      ]
    },
    {
      "cell_type": "code",
      "execution_count": null,
      "metadata": {
        "scrolled": false,
        "id": "WO8TXUAGxqGk",
        "outputId": "a23a66b5-045d-4d77-97c6-48748da32df2"
      },
      "outputs": [
        {
          "data": {
            "text/html": [
              "<table><tr><td><img src=https://i.imgur.com/YOQ9mzO.png width=\"600\"></td><td><img src=https://i.imgur.com/HobMKDG.png width=\"600\"></td></tr></table>"
            ],
            "text/plain": [
              "<IPython.core.display.HTML object>"
            ]
          },
          "metadata": {},
          "output_type": "display_data"
        }
      ],
      "source": [
        "display(HTML(f\"\"\"<table><tr><td><img src={ebsd_scan} width=\"600\"></td><td><img src={apd_ebsd} width=\"600\"></td></tr></table>\"\"\"))"
      ]
    },
    {
      "cell_type": "code",
      "execution_count": null,
      "metadata": {
        "id": "TjqvliUUxqGl",
        "outputId": "6fbd64f1-9e45-46a7-a181-ffe0e0b9f3aa"
      },
      "outputs": [
        {
          "data": {
            "text/html": [
              "\n",
              "        <script>\n",
              "            function code_toggle_12269848461980492105() {\n",
              "                $('div.cell.code_cell.rendered.selected').next().find('div.input').toggle();\n",
              "            }\n",
              "\n",
              "            $('div.cell.code_cell.rendered.selected').find(\"div.input\").hide();\n",
              "        </script>\n",
              "\n",
              "        <a href=\"javascript:code_toggle_12269848461980492105()\">s _</a>\n",
              "    "
            ],
            "text/plain": [
              "<IPython.core.display.HTML object>"
            ]
          },
          "execution_count": 12,
          "metadata": {},
          "output_type": "execute_result"
        }
      ],
      "source": [
        "hide_toggle(for_next=True)"
      ]
    },
    {
      "cell_type": "code",
      "execution_count": null,
      "metadata": {
        "scrolled": false,
        "id": "WFXM5KifxqGl",
        "outputId": "13756152-d94d-4bb3-ca73-0207bbf01c65"
      },
      "outputs": [
        {
          "data": {
            "text/html": [
              "<img src=\"https://raw.githubusercontent.com/mbuze/PyAPD/main/logo/logo.png\" width=\"1100\"/>"
            ],
            "text/plain": [
              "<IPython.core.display.Image object>"
            ]
          },
          "execution_count": 11,
          "metadata": {},
          "output_type": "execute_result"
        }
      ],
      "source": [
        "Image(url= pyapd_logo, width=1100)"
      ]
    },
    {
      "cell_type": "markdown",
      "metadata": {
        "id": "sNw4Zak_xqGm"
      },
      "source": [
        "## Training data generation"
      ]
    },
    {
      "cell_type": "code",
      "execution_count": 7,
      "metadata": {
        "colab": {
          "base_uri": "https://localhost:8080/"
        },
        "id": "0rNkWGoexqGm",
        "outputId": "b615dcf7-6a17-4ab9-b05a-ecac6592c695"
      },
      "outputs": [
        {
          "output_type": "stream",
          "name": "stdout",
          "text": [
            "Collecting PyAPD\n",
            "  Downloading PyAPD-0.1.0.tar.gz (16 kB)\n",
            "  Preparing metadata (setup.py) ... \u001b[?25l\u001b[?25hdone\n",
            "Requirement already satisfied: numpy in /usr/local/lib/python3.10/dist-packages (from PyAPD) (1.25.2)\n",
            "Collecting pykeops (from PyAPD)\n",
            "  Downloading pykeops-2.2.3.tar.gz (92 kB)\n",
            "\u001b[2K     \u001b[90m━━━━━━━━━━━━━━━━━━━━━━━━━━━━━━━━━━━━━━━━\u001b[0m \u001b[32m92.5/92.5 kB\u001b[0m \u001b[31m3.6 MB/s\u001b[0m eta \u001b[36m0:00:00\u001b[0m\n",
            "\u001b[?25h  Preparing metadata (setup.py) ... \u001b[?25l\u001b[?25hdone\n",
            "Requirement already satisfied: torch in /usr/local/lib/python3.10/dist-packages (from PyAPD) (2.3.1+cu121)\n",
            "Collecting pytorch-minimize (from PyAPD)\n",
            "  Downloading pytorch_minimize-0.0.2-py3-none-any.whl (59 kB)\n",
            "\u001b[2K     \u001b[90m━━━━━━━━━━━━━━━━━━━━━━━━━━━━━━━━━━━━━━━━\u001b[0m \u001b[32m59.6/59.6 kB\u001b[0m \u001b[31m4.6 MB/s\u001b[0m eta \u001b[36m0:00:00\u001b[0m\n",
            "\u001b[?25hRequirement already satisfied: matplotlib in /usr/local/lib/python3.10/dist-packages (from PyAPD) (3.7.1)\n",
            "Requirement already satisfied: scipy in /usr/local/lib/python3.10/dist-packages (from PyAPD) (1.11.4)\n",
            "Requirement already satisfied: contourpy>=1.0.1 in /usr/local/lib/python3.10/dist-packages (from matplotlib->PyAPD) (1.2.1)\n",
            "Requirement already satisfied: cycler>=0.10 in /usr/local/lib/python3.10/dist-packages (from matplotlib->PyAPD) (0.12.1)\n",
            "Requirement already satisfied: fonttools>=4.22.0 in /usr/local/lib/python3.10/dist-packages (from matplotlib->PyAPD) (4.53.1)\n",
            "Requirement already satisfied: kiwisolver>=1.0.1 in /usr/local/lib/python3.10/dist-packages (from matplotlib->PyAPD) (1.4.5)\n",
            "Requirement already satisfied: packaging>=20.0 in /usr/local/lib/python3.10/dist-packages (from matplotlib->PyAPD) (24.1)\n",
            "Requirement already satisfied: pillow>=6.2.0 in /usr/local/lib/python3.10/dist-packages (from matplotlib->PyAPD) (9.4.0)\n",
            "Requirement already satisfied: pyparsing>=2.3.1 in /usr/local/lib/python3.10/dist-packages (from matplotlib->PyAPD) (3.1.2)\n",
            "Requirement already satisfied: python-dateutil>=2.7 in /usr/local/lib/python3.10/dist-packages (from matplotlib->PyAPD) (2.8.2)\n",
            "Collecting pybind11 (from pykeops->PyAPD)\n",
            "  Downloading pybind11-2.13.1-py3-none-any.whl (238 kB)\n",
            "\u001b[2K     \u001b[90m━━━━━━━━━━━━━━━━━━━━━━━━━━━━━━━━━━━━━━━━\u001b[0m \u001b[32m238.8/238.8 kB\u001b[0m \u001b[31m9.2 MB/s\u001b[0m eta \u001b[36m0:00:00\u001b[0m\n",
            "\u001b[?25hCollecting keopscore==2.2.3 (from pykeops->PyAPD)\n",
            "  Downloading keopscore-2.2.3.tar.gz (100 kB)\n",
            "\u001b[2K     \u001b[90m━━━━━━━━━━━━━━━━━━━━━━━━━━━━━━━━━━━━━━━━\u001b[0m \u001b[32m100.3/100.3 kB\u001b[0m \u001b[31m7.9 MB/s\u001b[0m eta \u001b[36m0:00:00\u001b[0m\n",
            "\u001b[?25h  Preparing metadata (setup.py) ... \u001b[?25l\u001b[?25hdone\n",
            "Requirement already satisfied: filelock in /usr/local/lib/python3.10/dist-packages (from torch->PyAPD) (3.15.4)\n",
            "Requirement already satisfied: typing-extensions>=4.8.0 in /usr/local/lib/python3.10/dist-packages (from torch->PyAPD) (4.12.2)\n",
            "Requirement already satisfied: sympy in /usr/local/lib/python3.10/dist-packages (from torch->PyAPD) (1.13.0)\n",
            "Requirement already satisfied: networkx in /usr/local/lib/python3.10/dist-packages (from torch->PyAPD) (3.3)\n",
            "Requirement already satisfied: jinja2 in /usr/local/lib/python3.10/dist-packages (from torch->PyAPD) (3.1.4)\n",
            "Requirement already satisfied: fsspec in /usr/local/lib/python3.10/dist-packages (from torch->PyAPD) (2023.6.0)\n",
            "Collecting nvidia-cuda-nvrtc-cu12==12.1.105 (from torch->PyAPD)\n",
            "  Using cached nvidia_cuda_nvrtc_cu12-12.1.105-py3-none-manylinux1_x86_64.whl (23.7 MB)\n",
            "Collecting nvidia-cuda-runtime-cu12==12.1.105 (from torch->PyAPD)\n",
            "  Using cached nvidia_cuda_runtime_cu12-12.1.105-py3-none-manylinux1_x86_64.whl (823 kB)\n",
            "Collecting nvidia-cuda-cupti-cu12==12.1.105 (from torch->PyAPD)\n",
            "  Using cached nvidia_cuda_cupti_cu12-12.1.105-py3-none-manylinux1_x86_64.whl (14.1 MB)\n",
            "Collecting nvidia-cudnn-cu12==8.9.2.26 (from torch->PyAPD)\n",
            "  Using cached nvidia_cudnn_cu12-8.9.2.26-py3-none-manylinux1_x86_64.whl (731.7 MB)\n",
            "Collecting nvidia-cublas-cu12==12.1.3.1 (from torch->PyAPD)\n",
            "  Using cached nvidia_cublas_cu12-12.1.3.1-py3-none-manylinux1_x86_64.whl (410.6 MB)\n",
            "Collecting nvidia-cufft-cu12==11.0.2.54 (from torch->PyAPD)\n",
            "  Using cached nvidia_cufft_cu12-11.0.2.54-py3-none-manylinux1_x86_64.whl (121.6 MB)\n",
            "Collecting nvidia-curand-cu12==10.3.2.106 (from torch->PyAPD)\n",
            "  Using cached nvidia_curand_cu12-10.3.2.106-py3-none-manylinux1_x86_64.whl (56.5 MB)\n",
            "Collecting nvidia-cusolver-cu12==11.4.5.107 (from torch->PyAPD)\n",
            "  Using cached nvidia_cusolver_cu12-11.4.5.107-py3-none-manylinux1_x86_64.whl (124.2 MB)\n",
            "Collecting nvidia-cusparse-cu12==12.1.0.106 (from torch->PyAPD)\n",
            "  Using cached nvidia_cusparse_cu12-12.1.0.106-py3-none-manylinux1_x86_64.whl (196.0 MB)\n",
            "Collecting nvidia-nccl-cu12==2.20.5 (from torch->PyAPD)\n",
            "  Using cached nvidia_nccl_cu12-2.20.5-py3-none-manylinux2014_x86_64.whl (176.2 MB)\n",
            "Collecting nvidia-nvtx-cu12==12.1.105 (from torch->PyAPD)\n",
            "  Using cached nvidia_nvtx_cu12-12.1.105-py3-none-manylinux1_x86_64.whl (99 kB)\n",
            "Requirement already satisfied: triton==2.3.1 in /usr/local/lib/python3.10/dist-packages (from torch->PyAPD) (2.3.1)\n",
            "Collecting nvidia-nvjitlink-cu12 (from nvidia-cusolver-cu12==11.4.5.107->torch->PyAPD)\n",
            "  Downloading nvidia_nvjitlink_cu12-12.5.82-py3-none-manylinux2014_x86_64.whl (21.3 MB)\n",
            "\u001b[2K     \u001b[90m━━━━━━━━━━━━━━━━━━━━━━━━━━━━━━━━━━━━━━━━\u001b[0m \u001b[32m21.3/21.3 MB\u001b[0m \u001b[31m62.6 MB/s\u001b[0m eta \u001b[36m0:00:00\u001b[0m\n",
            "\u001b[?25hRequirement already satisfied: six>=1.5 in /usr/local/lib/python3.10/dist-packages (from python-dateutil>=2.7->matplotlib->PyAPD) (1.16.0)\n",
            "Requirement already satisfied: MarkupSafe>=2.0 in /usr/local/lib/python3.10/dist-packages (from jinja2->torch->PyAPD) (2.1.5)\n",
            "Requirement already satisfied: mpmath<1.4,>=1.1.0 in /usr/local/lib/python3.10/dist-packages (from sympy->torch->PyAPD) (1.3.0)\n",
            "Building wheels for collected packages: PyAPD, pykeops, keopscore\n",
            "  Building wheel for PyAPD (setup.py) ... \u001b[?25l\u001b[?25hdone\n",
            "  Created wheel for PyAPD: filename=PyAPD-0.1.0-py3-none-any.whl size=16358 sha256=a1f11cbf78cce62d91b9e147fecce77e60c8b061d57b07c5407d458104ac4261\n",
            "  Stored in directory: /root/.cache/pip/wheels/d0/47/09/bc61fc640fc8d8a0a0a94c39d1e60cb5f5b4288d2736fe80e2\n",
            "  Building wheel for pykeops (setup.py) ... \u001b[?25l\u001b[?25hdone\n",
            "  Created wheel for pykeops: filename=pykeops-2.2.3-py3-none-any.whl size=118640 sha256=7ece56bda4f3c99299486669e0db2c1f0cb1f117f5e283f31788e0cf826c3c10\n",
            "  Stored in directory: /root/.cache/pip/wheels/37/8b/c7/25e5194a7138fd564c3ef3e275ae0155c207cd85d7ab347817\n",
            "  Building wheel for keopscore (setup.py) ... \u001b[?25l\u001b[?25hdone\n",
            "  Created wheel for keopscore: filename=keopscore-2.2.3-py3-none-any.whl size=172486 sha256=fd27c06e984c71dfb7cfe30d89b8f5160ca3718b25a72d1b8bac97d8275b6ec8\n",
            "  Stored in directory: /root/.cache/pip/wheels/3d/d8/ee/29900acfbbd7ee0f3b05981d3d172baad4c3b5d40cbf4c5d74\n",
            "Successfully built PyAPD pykeops keopscore\n",
            "Installing collected packages: pybind11, nvidia-nvtx-cu12, nvidia-nvjitlink-cu12, nvidia-nccl-cu12, nvidia-curand-cu12, nvidia-cufft-cu12, nvidia-cuda-runtime-cu12, nvidia-cuda-nvrtc-cu12, nvidia-cuda-cupti-cu12, nvidia-cublas-cu12, keopscore, pykeops, nvidia-cusparse-cu12, nvidia-cudnn-cu12, nvidia-cusolver-cu12, pytorch-minimize, PyAPD\n",
            "Successfully installed PyAPD-0.1.0 keopscore-2.2.3 nvidia-cublas-cu12-12.1.3.1 nvidia-cuda-cupti-cu12-12.1.105 nvidia-cuda-nvrtc-cu12-12.1.105 nvidia-cuda-runtime-cu12-12.1.105 nvidia-cudnn-cu12-8.9.2.26 nvidia-cufft-cu12-11.0.2.54 nvidia-curand-cu12-10.3.2.106 nvidia-cusolver-cu12-11.4.5.107 nvidia-cusparse-cu12-12.1.0.106 nvidia-nccl-cu12-2.20.5 nvidia-nvjitlink-cu12-12.5.82 nvidia-nvtx-cu12-12.1.105 pybind11-2.13.1 pykeops-2.2.3 pytorch-minimize-0.0.2\n"
          ]
        }
      ],
      "source": [
        "pip install PyAPD"
      ]
    },
    {
      "cell_type": "code",
      "execution_count": 8,
      "metadata": {
        "colab": {
          "base_uri": "https://localhost:8080/"
        },
        "id": "hEyK11j-xqGm",
        "outputId": "b0bfa07a-73e2-45b3-c577-839c0bb83a59"
      },
      "outputs": [
        {
          "output_type": "stream",
          "name": "stdout",
          "text": [
            "[KeOps] Compiling cuda jit compiler engine ... OK\n",
            "[pyKeOps] Compiling nvrtc binder for python ... OK\n"
          ]
        }
      ],
      "source": [
        "import PyAPD\n",
        "import matplotlib.pyplot as plt # for plotting\n",
        "import torch # go-to machine learning Python library\n",
        "import numpy as np # NumPy is the fundamental package for scientific computing with Python."
      ]
    },
    {
      "cell_type": "code",
      "execution_count": 9,
      "metadata": {
        "id": "Dx4RahXxxqGn"
      },
      "outputs": [],
      "source": [
        "apd1 = PyAPD.apd_system(\n",
        "    N=15, # number of grains\n",
        "    ani_thres=0.5, # anisotropy parameter\n",
        "    pixel_size_prefactor=5, # create this times as many pixels (good for nice plots)\n",
        "    )\n",
        "apd1.assemble_pixels() # defining the pixels"
      ]
    },
    {
      "cell_type": "code",
      "execution_count": 10,
      "metadata": {
        "id": "gdXP0dvrxqGn"
      },
      "outputs": [],
      "source": [
        "%%capture\n",
        "apd1.Lloyds_algorithm( # # algorithm for generating nice microstructure\n",
        "    K=10, # number of iterations\n",
        ")"
      ]
    },
    {
      "cell_type": "markdown",
      "metadata": {
        "id": "g1oeoKf-xqGn"
      },
      "source": [
        "## Training data generation"
      ]
    },
    {
      "cell_type": "code",
      "execution_count": null,
      "metadata": {
        "scrolled": false,
        "id": "4tl1KaoKxqGn",
        "outputId": "17f5fdfe-d110-4ff8-9f92-89ff49b9fdc9"
      },
      "outputs": [
        {
          "data": {
            "text/plain": [
              "(<Figure size 756x756 with 1 Axes>, <Axes: >)"
            ]
          },
          "execution_count": 16,
          "metadata": {},
          "output_type": "execute_result"
        },
        {
          "data": {
            "image/png": "[encoded data removed]",
            "text/plain": [
              "<Figure size 756x756 with 1 Axes>"
            ]
          },
          "metadata": {
            "needs_background": "light"
          },
          "output_type": "display_data"
        }
      ],
      "source": [
        "apd1.plot_apd()"
      ]
    },
    {
      "cell_type": "markdown",
      "metadata": {
        "id": "EzikNcRFxqGo"
      },
      "source": [
        "## Training data generation"
      ]
    },
    {
      "cell_type": "code",
      "execution_count": 11,
      "metadata": {
        "id": "BCwxii3fxqGo"
      },
      "outputs": [],
      "source": [
        "img = apd1.assemble_apd().reshape(apd1.pixel_params).transpose(0,1).cpu()\n",
        "img_s = (img + 1)/img.max() #shift values to [0,1]"
      ]
    },
    {
      "cell_type": "code",
      "execution_count": 12,
      "metadata": {
        "colab": {
          "base_uri": "https://localhost:8080/"
        },
        "id": "7uy9kGlbxqGo",
        "outputId": "9818c2ce-06c5-4d41-d328-e4d6fd32e9d3"
      },
      "outputs": [
        {
          "output_type": "execute_result",
          "data": {
            "text/plain": [
              "tensor(0.2143)"
            ]
          },
          "metadata": {},
          "execution_count": 12
        }
      ],
      "source": [
        "img_s[0,0]"
      ]
    },
    {
      "cell_type": "markdown",
      "metadata": {
        "id": "UqgEQ9YbxqGp"
      },
      "source": [
        "Full data generation algorithm (see stand-alone [notebook in the Github repo](https://github.com/mbuze/GAN_microstructure_modelling/blob/main/notebooks/generating_pyapd_data.ipynb) ):"
      ]
    },
    {
      "cell_type": "code",
      "execution_count": null,
      "metadata": {
        "id": "78Jok7AdxqGp"
      },
      "outputs": [],
      "source": [
        "# for i in range(0,14162):\n",
        "#     apd1 = PyAPD.apd_system(N=15, ani_thres=0.5, seed = i)\n",
        "#     apd1.check_optimality()\n",
        "#     apd1.Lloyds_algorithm(K=10, verbosity_level = 0 )\n",
        "#     img = apd1.assemble_apd().reshape(apd1.pixel_params).transpose(0,1).cpu()\n",
        "#     img_s = (img + 1)/(img+1).max()  #shift values to [0,1]\n",
        "#     plt.imsave(f'data/apd_data/train/mono_disperse_small/pic{i}.png', img_s,cmap=plt.cm.gray) # saving an image"
      ]
    },
    {
      "cell_type": "markdown",
      "metadata": {
        "id": "v_8XWozFxqGp"
      },
      "source": [
        "## Inspecting the data"
      ]
    },
    {
      "cell_type": "code",
      "execution_count": 13,
      "metadata": {
        "id": "6gR4D7SrxqGq"
      },
      "outputs": [],
      "source": [
        "import os\n",
        "import requests\n",
        "import zipfile\n",
        "from pathlib import Path"
      ]
    },
    {
      "cell_type": "code",
      "execution_count": 14,
      "metadata": {
        "colab": {
          "base_uri": "https://localhost:8080/"
        },
        "id": "1HUovRrMxqGq",
        "outputId": "ddab2edb-f197-4b89-c563-ba684457c4c3"
      },
      "outputs": [
        {
          "output_type": "stream",
          "name": "stdout",
          "text": [
            "Did not find data/apd_data directory, creating one...\n",
            "Downloading PyAPD data...\n",
            "Unzipping PyAPD data...\n"
          ]
        }
      ],
      "source": [
        "# Setup path to data folder\n",
        "data_path = Path(\"data/\") # path to data folder\n",
        "image_path = data_path / \"apd_data\" # path to the specific subfolder\n",
        "# If the image folder doesn't exist, download it and prepare it...\n",
        "if image_path.is_dir():\n",
        "    print(f\"{image_path} directory exists.\")\n",
        "else:\n",
        "    print(f\"Did not find {image_path} directory, creating one...\")\n",
        "    image_path.mkdir(parents=True, exist_ok=True)\n",
        "    # Download PyAPD data\n",
        "    with open(data_path / \"apd_data.zip\", \"wb\") as f:\n",
        "        request = requests.get(\"https://github.com/mbuze/GAN_microstructures_Summer_School/raw/main/data/apd_data.zip\")\n",
        "        print(\"Downloading PyAPD data...\")\n",
        "        f.write(request.content)\n",
        "    # Unzip the data\n",
        "    with zipfile.ZipFile(data_path / \"apd_data.zip\", \"r\") as zip_ref:\n",
        "        print(\"Unzipping PyAPD data...\")\n",
        "        zip_ref.extractall(image_path)"
      ]
    },
    {
      "cell_type": "code",
      "execution_count": 15,
      "metadata": {
        "colab": {
          "base_uri": "https://localhost:8080/",
          "height": 576
        },
        "id": "y4p1Meo2xqGr",
        "outputId": "b95f3a17-881d-46ce-c1f4-24644918e7a8"
      },
      "outputs": [
        {
          "output_type": "display_data",
          "data": {
            "text/plain": [
              "<Figure size 1000x700 with 1 Axes>"
            ],
            "image/png": "[encoded data removed]"
          },
          "metadata": {}
        }
      ],
      "source": [
        "import random # random number generator\n",
        "from PIL import Image # opening images from files\n",
        "# Set seed\n",
        "random.seed(41) # <- try changing this and see what happens\n",
        "# 1. Get all image paths (* means \"any combination\")\n",
        "image_path_list = list(image_path.glob(\"*/*/*.png\"))\n",
        "#2. Get random image path\n",
        "random_image_path = random.choice(image_path_list)\n",
        "# 3. Get image class from path name (the image class is the name of the directory where the image is stored)\n",
        "image_class = random_image_path.parent.stem\n",
        "# 4. Open image\n",
        "img = Image.open(random_image_path)\n",
        "# Turn the image into an array\n",
        "img_as_array = np.asarray(img)\n",
        "# Plot the image with matplotlib\n",
        "plt.figure(figsize=(10, 7))\n",
        "plt.imshow(img_as_array)#,cmap=plt.cm.gray)\n",
        "plt.axis(False);"
      ]
    },
    {
      "cell_type": "markdown",
      "metadata": {
        "id": "PkFqGggtxqGs"
      },
      "source": [
        "## Summary\n",
        "\n",
        "- Polycrystalline metals and alloys comprise of grains with different shape, size, and crystallographic orientation.\n",
        "- This leads to an interesting mathematical imaging problem.\n",
        "- An ability to create high-quality artificial computer samples is highly desirable.\n",
        "- AI frameworks can help, but they rely on data.\n",
        "- We have created artificial data and next time we meet we will use it to train a machine learning model.\n",
        "- Final few slides contain homework exercises."
      ]
    },
    {
      "cell_type": "markdown",
      "metadata": {
        "id": "cWsKIB3wxqGs"
      },
      "source": [
        "## Homework"
      ]
    },
    {
      "cell_type": "markdown",
      "metadata": {
        "id": "fAMM1uYtxqGs"
      },
      "source": [
        "(1) How many data points (images) does our dataset contain? You can either just type in the number or run a command that will output the number. (Hint: you can get it easily using commands from the data inspection)"
      ]
    },
    {
      "cell_type": "code",
      "execution_count": null,
      "metadata": {
        "id": "yoEgYM0oxqGt"
      },
      "outputs": [],
      "source": [
        "# answer here\n",
        "len(image_path_list)"
      ]
    },
    {
      "cell_type": "markdown",
      "metadata": {
        "id": "fKoaLcm6xqGt"
      },
      "source": [
        "(2) Display the 500th image from the dataset."
      ]
    },
    {
      "cell_type": "code",
      "execution_count": 19,
      "metadata": {
        "colab": {
          "base_uri": "https://localhost:8080/",
          "height": 576
        },
        "id": "e81xQ_S0xqGt",
        "outputId": "7cacb7df-def0-43d0-ae8b-42a5c20858e8"
      },
      "outputs": [
        {
          "output_type": "display_data",
          "data": {
            "text/plain": [
              "<Figure size 1000x700 with 1 Axes>"
            ],
            "image/png": "[encoded data removed]"
          },
          "metadata": {}
        }
      ],
      "source": [
        "# code goes here\n",
        "img = Image.open(image_path_list[499])\n",
        "\n",
        "img_as_array = np.asarray(img)\n",
        "\n",
        "plt.figure(figsize=(10, 7))\n",
        "\n",
        "plt.imshow(img_as_array)#,cmap=plt.cm.gray）\n",
        "\n",
        "plt.axis(False);\n"
      ]
    },
    {
      "cell_type": "markdown",
      "metadata": {
        "id": "biqH7wYZxqGu"
      },
      "source": [
        "(3) In the presentation the images were coloured, but in the dataset the images are grayscale. Discuss why (there is a specific line of code responsible for it). Do you think that it matters? Is it beneficial or detrimental?"
      ]
    },
    {
      "cell_type": "markdown",
      "metadata": {
        "id": "FQnnazVBxqGv"
      },
      "source": [
        "***plt.imshow(img_as_array)#,cmap=plt.cm.gray)***, this is the code that resposible for it.\n",
        "\n",
        "**I don't think it matters. As the colors are composed by RGB (i.e. red, blue, green), it has three layers repectively. However, if we consider the gray one, which is composed by only white and black, each area is presented by the different degree of composition. So we just need computer learn the weight of each small area, and computer cannot recognize the color, it only can regonize number.**\n",
        "\n",
        "**And I think it is benificial, as I think it will release the pressure for GPU, as it only needs to learn one layer. On the other hand, as we reduce the number of layer from 3 to 1, it will lose some features about colors.**\n"
      ]
    },
    {
      "cell_type": "markdown",
      "metadata": {
        "id": "cqRHu9lIxqGv"
      },
      "source": [
        "(4) What are the common features of all the images we produced? (This is ultimately what we want the machine learning algorithm to learn for itself!). Try to think of at least four different features, but feel free to list as many as you want."
      ]
    },
    {
      "cell_type": "markdown",
      "metadata": {
        "id": "NK_raFDMxqGv"
      },
      "source": [
        "**Common features:**\n",
        "\n",
        "1.   The edge of each area with uniform color is unclear.\n",
        "2.   Each area with uniform colors partially cover other areas.\n",
        "\n",
        "**Different features**\n",
        "1.   The color is distributed at random.\n",
        "2.   The pattern is distributed at random.\n",
        "\n",
        "\n",
        "\n",
        "\n",
        "\n"
      ]
    }
  ],
  "metadata": {
    "accelerator": "GPU",
    "celltoolbar": "Slideshow",
    "colab": {
      "gpuType": "T4",
      "provenance": []
    },
    "kernelspec": {
      "display_name": "Python 3 (ipykernel)",
      "language": "python",
      "name": "python3"
    },
    "language_info": {
      "codemirror_mode": {
        "name": "ipython",
        "version": 3
      },
      "file_extension": ".py",
      "mimetype": "text/x-python",
      "name": "python",
      "nbconvert_exporter": "python",
      "pygments_lexer": "ipython3",
      "version": "3.11.6"
    }
  },
  "nbformat": 4,
  "nbformat_minor": 0
}